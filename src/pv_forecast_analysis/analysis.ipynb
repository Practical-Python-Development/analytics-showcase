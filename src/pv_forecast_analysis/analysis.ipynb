{
 "cells": [
  {
   "cell_type": "code",
   "execution_count": null,
   "id": "cf7c44c4f9ef5cfd",
   "metadata": {},
   "outputs": [],
   "source": [
    "import datetime as dt\n",
    "\n",
    "import matplotlib.pyplot as plt\n",
    "import numpy as np\n",
    "import pandas as pd\n",
    "\n",
    "from data import (\n",
    "    load_master_data,\n",
    "    load_measurement,\n",
    "    load_best_forecasts,\n",
    "    LOCAL_TZ,\n",
    "    COL_TSO,\n",
    "    COL_CAPACITY,\n",
    "    COL_PLANT,\n",
    ")\n",
    "\n",
    "%matplotlib widget"
   ]
  },
  {
   "cell_type": "code",
   "execution_count": null,
   "id": "initial_id",
   "metadata": {},
   "outputs": [],
   "source": [
    "master_data = load_master_data()\n",
    "master_data.head()"
   ]
  },
  {
   "cell_type": "code",
   "execution_count": null,
   "id": "7eae11920fc0c289",
   "metadata": {},
   "outputs": [],
   "source": [
    "master_data[[COL_TSO, COL_PLANT]].groupby(COL_TSO).count()"
   ]
  },
  {
   "cell_type": "code",
   "execution_count": null,
   "id": "ad4d960cd292eb01",
   "metadata": {},
   "outputs": [],
   "source": [
    "master_data[[COL_TSO, COL_CAPACITY]].groupby(COL_TSO).sum()"
   ]
  },
  {
   "cell_type": "code",
   "execution_count": null,
   "id": "a5f6f05363e13c5f",
   "metadata": {},
   "outputs": [],
   "source": [
    "master_data_grouped = master_data.groupby(COL_TSO).agg(\n",
    "    {COL_CAPACITY: [\"sum\", \"mean\"], COL_PLANT: \"count\"},\n",
    ")\n",
    "master_data_grouped"
   ]
  },
  {
   "cell_type": "code",
   "execution_count": null,
   "id": "2dcaf95ff1405bc7",
   "metadata": {},
   "outputs": [],
   "source": [
    "master_data_grouped[COL_CAPACITY]"
   ]
  },
  {
   "cell_type": "code",
   "execution_count": null,
   "id": "a521cc0beff7d70a",
   "metadata": {},
   "outputs": [],
   "source": [
    "master_data_flat_grouped = master_data.groupby(COL_TSO).agg(\n",
    "    capacity_sum=pd.NamedAgg(COL_CAPACITY, \"sum\"),\n",
    "    capacity_mean=pd.NamedAgg(COL_CAPACITY, \"mean\"),\n",
    "    plant_count=pd.NamedAgg(COL_PLANT, \"count\"),\n",
    ")\n",
    "master_data_flat_grouped"
   ]
  },
  {
   "cell_type": "code",
   "execution_count": null,
   "id": "93e78ba09a2c8339",
   "metadata": {},
   "outputs": [],
   "source": [
    "master_data_flat_grouped[\"own_mean\"] = (\n",
    "    master_data_flat_grouped[\"capacity_sum\"] / master_data_flat_grouped[\"plant_count\"]\n",
    ")\n",
    "master_data_flat_grouped"
   ]
  },
  {
   "cell_type": "code",
   "execution_count": null,
   "id": "f97c8c163cda9f7f",
   "metadata": {},
   "outputs": [],
   "source": [
    "master_data_flat_grouped.join(master_data_grouped[COL_CAPACITY][\"mean\"])"
   ]
  },
  {
   "cell_type": "code",
   "execution_count": null,
   "id": "84ae02aa97f9c4c4",
   "metadata": {},
   "outputs": [],
   "source": [
    "measurements = load_measurement()\n",
    "measurements"
   ]
  },
  {
   "cell_type": "code",
   "execution_count": null,
   "id": "5b45bb70669aaddf",
   "metadata": {},
   "outputs": [],
   "source": [
    "fig, axes = plt.subplots()\n",
    "measurements.plot(ax=axes)\n",
    "plt.show()"
   ]
  },
  {
   "cell_type": "code",
   "execution_count": null,
   "id": "549a790d31f031cb",
   "metadata": {},
   "outputs": [],
   "source": [
    "fig, axes = plt.subplots()\n",
    "measurements[\"Plant_01\"].plot(ax=axes)\n",
    "plt.show()"
   ]
  },
  {
   "cell_type": "code",
   "execution_count": null,
   "id": "a2128ca111222d2f",
   "metadata": {},
   "outputs": [],
   "source": [
    "start = LOCAL_TZ.localize(dt.datetime(2024, 10, 27))\n",
    "end = start + dt.timedelta(days=2)\n",
    "fig, axes = plt.subplots()\n",
    "measurements.loc[start:end, \"Plant_01\"].plot(ax=axes)\n",
    "plt.show()"
   ]
  },
  {
   "cell_type": "code",
   "execution_count": null,
   "id": "82d9907f7c6b3fd3",
   "metadata": {},
   "outputs": [],
   "source": [
    "fig, axes = plt.subplots()\n",
    "measurements.loc[start:end, \"Plant_01\"].plot(ax=axes)\n",
    "measurements.loc[start:end, \"Plant_01\"].rolling(window=10).mean().plot(ax=axes)\n",
    "measurements.loc[start:end, \"Plant_01\"].rolling(\n",
    "    window=dt.timedelta(hours=2)\n",
    ").mean().plot(ax=axes)\n",
    "plt.show()"
   ]
  },
  {
   "cell_type": "code",
   "execution_count": null,
   "id": "519f81129ff93052",
   "metadata": {},
   "outputs": [],
   "source": [
    "measurements.describe()"
   ]
  },
  {
   "cell_type": "code",
   "execution_count": null,
   "id": "66a76f8433b9233a",
   "metadata": {},
   "outputs": [],
   "source": [
    "max_per_plant = measurements.describe().loc[[\"max\"], :].T\n",
    "max_per_plant.head()"
   ]
  },
  {
   "cell_type": "code",
   "execution_count": null,
   "id": "bc9303e08872be24",
   "metadata": {},
   "outputs": [],
   "source": [
    "max_vs_installed_cap = max_per_plant.join(\n",
    "    master_data.set_index(COL_PLANT)[[COL_CAPACITY]]\n",
    ")\n",
    "max_vs_installed_cap.head()"
   ]
  },
  {
   "cell_type": "code",
   "execution_count": null,
   "id": "2a6e22a19c14e1ab",
   "metadata": {},
   "outputs": [],
   "source": [
    "(max_vs_installed_cap[\"max\"] / max_vs_installed_cap[COL_CAPACITY]).var()"
   ]
  },
  {
   "cell_type": "code",
   "execution_count": null,
   "id": "6b4b18eafba91a27",
   "metadata": {},
   "outputs": [],
   "source": [
    "plant_to_tso = {\n",
    "    plant: tso\n",
    "    for plant, tso in master_data[[COL_PLANT, COL_TSO]].itertuples(\n",
    "        name=None, index=False\n",
    "    )\n",
    "}\n",
    "tso_measurement = measurements.copy(deep=True)\n",
    "tso_measurement = tso_measurement.rename(columns=plant_to_tso)\n",
    "tso_measurement = tso_measurement.T.groupby(tso_measurement.columns).sum().T\n",
    "fig, axes = plt.subplots()\n",
    "measurements.loc[start:end, \"Plant_01\"].plot(ax=axes)\n",
    "plt.show()"
   ]
  },
  {
   "cell_type": "code",
   "execution_count": null,
   "id": "b9a2ad97486f49f7",
   "metadata": {},
   "outputs": [],
   "source": [
    "portfolio_measurement = measurements.sum(axis=1).to_frame(\"measurement\")\n",
    "portfolio_measurement.plot()"
   ]
  },
  {
   "cell_type": "code",
   "execution_count": null,
   "id": "3d427209ae7b51fa",
   "metadata": {},
   "outputs": [],
   "source": [
    "portfolio_measurement[\"hour\"] = portfolio_measurement.index.hour\n",
    "fig, axes = plt.subplots()\n",
    "data_sets = [\n",
    "    portfolio_measurement.loc[\n",
    "        portfolio_measurement[\"hour\"] == hour, \"measurement\"\n",
    "    ].values\n",
    "    for hour in portfolio_measurement[\"hour\"].unique()\n",
    "]\n",
    "axes.violinplot(dataset=data_sets)\n",
    "plt.show()"
   ]
  },
  {
   "cell_type": "code",
   "execution_count": null,
   "id": "e2cacfb33ea0bbf3",
   "metadata": {},
   "outputs": [],
   "source": [
    "best_forecasts = load_best_forecasts()\n",
    "best_forecasts.head()"
   ]
  },
  {
   "cell_type": "code",
   "execution_count": null,
   "id": "bda446356625684b",
   "metadata": {},
   "outputs": [],
   "source": [
    "fc_vs_measure = (\n",
    "    best_forecasts.sum(axis=1).to_frame(\"forecast\").join(portfolio_measurement)\n",
    ")\n",
    "fc_vs_measure"
   ]
  },
  {
   "cell_type": "code",
   "execution_count": null,
   "id": "54a16486f7b64f85",
   "metadata": {},
   "outputs": [],
   "source": [
    "fc_vs_measure.plot()"
   ]
  },
  {
   "cell_type": "code",
   "execution_count": null,
   "id": "553d3e72b2bff2d3",
   "metadata": {},
   "outputs": [],
   "source": [
    "bias = (fc_vs_measure[\"forecast\"] - fc_vs_measure[\"measurement\"]).mean()\n",
    "rmse = np.sqrt(((fc_vs_measure[\"forecast\"] - fc_vs_measure[\"measurement\"]) ** 2).mean())\n",
    "print(f\"{bias=}, {rmse=}\")"
   ]
  }
 ],
 "metadata": {
  "kernelspec": {
   "display_name": "Python 3 (ipykernel)",
   "language": "python",
   "name": "python3"
  },
  "language_info": {
   "codemirror_mode": {
    "name": "ipython",
    "version": 3
   },
   "file_extension": ".py",
   "mimetype": "text/x-python",
   "name": "python",
   "nbconvert_exporter": "python",
   "pygments_lexer": "ipython3",
   "version": "3.13.0"
  }
 },
 "nbformat": 4,
 "nbformat_minor": 5
}
