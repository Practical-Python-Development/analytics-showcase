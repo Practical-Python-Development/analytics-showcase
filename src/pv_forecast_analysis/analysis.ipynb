{
 "cells": [
  {
   "cell_type": "code",
   "id": "cf7c44c4f9ef5cfd",
   "metadata": {},
   "source": [
    "import datetime as dt\n",
    "\n",
    "import matplotlib.pyplot as plt\n",
    "import numpy as np\n",
    "import pandas as pd\n",
    "\n",
    "from data import load_master_data, load_measurement, load_best_forecasts, load_forecast, LOCAL_TZ, COL_TSO, \\\n",
    "    COL_CAPACITY, COL_PLANT, COL_TIMESTAMP\n",
    "%matplotlib widget"
   ],
   "outputs": [],
   "execution_count": null
  },
  {
   "cell_type": "code",
   "id": "initial_id",
   "metadata": {},
   "source": [
    "master_data = load_master_data()\n",
    "master_data.head()"
   ],
   "outputs": [],
   "execution_count": null
  },
  {
   "cell_type": "code",
   "id": "7eae11920fc0c289",
   "metadata": {},
   "source": [
    "master_data[[COL_TSO, COL_PLANT]].groupby(COL_TSO).count()"
   ],
   "outputs": [],
   "execution_count": null
  },
  {
   "cell_type": "code",
   "id": "ad4d960cd292eb01",
   "metadata": {},
   "source": [
    "master_data[[COL_TSO, COL_CAPACITY]].groupby(COL_TSO).sum()"
   ],
   "outputs": [],
   "execution_count": null
  },
  {
   "cell_type": "code",
   "id": "a5f6f05363e13c5f",
   "metadata": {},
   "source": [
    "master_data_grouped = master_data.groupby(COL_TSO).agg({\n",
    "    COL_CAPACITY: ['sum', 'mean'],\n",
    "    COL_PLANT: 'count'},\n",
    ")\n",
    "master_data_grouped"
   ],
   "outputs": [],
   "execution_count": null
  },
  {
   "cell_type": "code",
   "id": "2dcaf95ff1405bc7",
   "metadata": {},
   "source": [
    "master_data_grouped[COL_CAPACITY]"
   ],
   "outputs": [],
   "execution_count": null
  },
  {
   "cell_type": "code",
   "id": "a521cc0beff7d70a",
   "metadata": {},
   "source": [
    "master_data_flat_grouped = master_data.groupby(COL_TSO).agg(\n",
    "    capacity_sum=pd.NamedAgg(COL_CAPACITY, 'sum'),\n",
    "    capacity_mean=pd.NamedAgg(COL_CAPACITY, 'mean'),\n",
    "    plant_count=pd.NamedAgg(COL_PLANT, 'count'),\n",
    ")\n",
    "master_data_flat_grouped"
   ],
   "outputs": [],
   "execution_count": null
  },
  {
   "cell_type": "code",
   "id": "93e78ba09a2c8339",
   "metadata": {},
   "source": [
    "master_data_flat_grouped['own_mean'] = master_data_flat_grouped['capacity_sum'] / master_data_flat_grouped['plant_count']\n",
    "master_data_flat_grouped"
   ],
   "outputs": [],
   "execution_count": null
  },
  {
   "cell_type": "code",
   "id": "f97c8c163cda9f7f",
   "metadata": {},
   "source": [
    "master_data_flat_grouped.join(master_data_grouped[COL_CAPACITY]['mean'])"
   ],
   "outputs": [],
   "execution_count": null
  },
  {
   "cell_type": "code",
   "id": "84ae02aa97f9c4c4",
   "metadata": {},
   "source": [
    "measurements = load_measurement()\n",
    "measurements"
   ],
   "outputs": [],
   "execution_count": null
  },
  {
   "cell_type": "code",
   "id": "5b45bb70669aaddf",
   "metadata": {},
   "source": [
    "fig, axes = plt.subplots()\n",
    "measurements.plot(ax=axes)\n",
    "plt.show()"
   ],
   "outputs": [],
   "execution_count": null
  },
  {
   "cell_type": "code",
   "id": "549a790d31f031cb",
   "metadata": {},
   "source": [
    "fig, axes = plt.subplots()\n",
    "measurements['Plant_01'].plot(ax=axes)\n",
    "plt.show()"
   ],
   "outputs": [],
   "execution_count": null
  },
  {
   "cell_type": "code",
   "id": "a2128ca111222d2f",
   "metadata": {},
   "source": [
    "start = LOCAL_TZ.localize(dt.datetime(2024, 10, 27))\n",
    "end = start + dt.timedelta(days=2)\n",
    "fig, axes = plt.subplots()\n",
    "measurements.loc[start:end, 'Plant_01'].plot(ax=axes)\n",
    "plt.show()"
   ],
   "outputs": [],
   "execution_count": null
  },
  {
   "cell_type": "code",
   "id": "82d9907f7c6b3fd3",
   "metadata": {},
   "source": [
    "fig, axes = plt.subplots()\n",
    "measurements.loc[start:end, 'Plant_01'].plot(ax=axes)\n",
    "measurements.loc[start:end, 'Plant_01'].rolling(window=10).mean().plot(ax=axes)\n",
    "measurements.loc[start:end, 'Plant_01'].rolling(window=dt.timedelta(hours=2)).mean().plot(ax=axes)\n",
    "plt.show()"
   ],
   "outputs": [],
   "execution_count": null
  },
  {
   "cell_type": "code",
   "id": "519f81129ff93052",
   "metadata": {},
   "source": [
    "measurements.describe()"
   ],
   "outputs": [],
   "execution_count": null
  },
  {
   "cell_type": "code",
   "id": "66a76f8433b9233a",
   "metadata": {},
   "source": [
    "max_per_plant = measurements.describe().loc[['max'], :].T\n",
    "max_per_plant.head()"
   ],
   "outputs": [],
   "execution_count": null
  },
  {
   "cell_type": "code",
   "id": "bc9303e08872be24",
   "metadata": {},
   "source": [
    "max_vs_installed_cap = max_per_plant.join(master_data.set_index(COL_PLANT)[[COL_CAPACITY]])\n",
    "max_vs_installed_cap.head()"
   ],
   "outputs": [],
   "execution_count": null
  },
  {
   "cell_type": "code",
   "id": "2a6e22a19c14e1ab",
   "metadata": {},
   "source": [
    "(max_vs_installed_cap['max'] / max_vs_installed_cap[COL_CAPACITY]).var()"
   ],
   "outputs": [],
   "execution_count": null
  },
  {
   "cell_type": "code",
   "id": "6b4b18eafba91a27",
   "metadata": {},
   "source": [
    "plant_to_tso = {plant: tso for plant, tso in master_data[[COL_PLANT, COL_TSO]].itertuples(name=None, index=False)}\n",
    "tso_measurement = measurements.copy(deep=True)\n",
    "tso_measurement = tso_measurement.rename(columns=plant_to_tso)\n",
    "tso_measurement = tso_measurement.T.groupby(tso_measurement.columns).sum().T\n",
    "fig, axes = plt.subplots()\n",
    "measurements.loc[start:end, 'Plant_01'].plot(ax=axes)\n",
    "plt.show()"
   ],
   "outputs": [],
   "execution_count": null
  },
  {
   "cell_type": "code",
   "id": "b9a2ad97486f49f7",
   "metadata": {},
   "source": [
    "portfolio_measurement = measurements.sum(axis=1).to_frame('measurement')\n",
    "portfolio_measurement.plot()"
   ],
   "outputs": [],
   "execution_count": null
  },
  {
   "cell_type": "code",
   "id": "3d427209ae7b51fa",
   "metadata": {},
   "source": [
    "portfolio_measurement['hour'] = portfolio_measurement.index.hour\n",
    "fig, axes = plt.subplots()\n",
    "data_sets = [\n",
    "    portfolio_measurement.loc[portfolio_measurement['hour']==hour, 'measurement'].values\n",
    "    for hour in portfolio_measurement['hour'].unique()\n",
    "]\n",
    "axes.violinplot(dataset=data_sets)\n",
    "plt.show()"
   ],
   "outputs": [],
   "execution_count": null
  },
  {
   "cell_type": "code",
   "id": "e2cacfb33ea0bbf3",
   "metadata": {},
   "source": [
    "best_forecasts = load_best_forecasts()\n",
    "best_forecasts.head()"
   ],
   "outputs": [],
   "execution_count": null
  },
  {
   "cell_type": "code",
   "id": "bda446356625684b",
   "metadata": {},
   "source": [
    "fc_vs_measure = best_forecasts.sum(axis=1).to_frame('forecast').join(portfolio_measurement)\n",
    "fc_vs_measure"
   ],
   "outputs": [],
   "execution_count": null
  },
  {
   "cell_type": "code",
   "id": "54a16486f7b64f85",
   "metadata": {},
   "source": [
    "fc_vs_measure.plot()"
   ],
   "outputs": [],
   "execution_count": null
  },
  {
   "cell_type": "code",
   "id": "553d3e72b2bff2d3",
   "metadata": {},
   "source": [
    "bias = (fc_vs_measure['forecast'] - fc_vs_measure['measurement']).mean()\n",
    "rmse = np.sqrt(((fc_vs_measure[\"forecast\"] - fc_vs_measure[\"measurement\"])**2).mean())\n",
    "print(f'{bias=}, {rmse=}')"
   ],
   "outputs": [],
   "execution_count": null
  }
 ],
 "metadata": {
  "kernelspec": {
   "display_name": "Python 3 (ipykernel)",
   "language": "python",
   "name": "python3"
  },
  "language_info": {
   "codemirror_mode": {
    "name": "ipython",
    "version": 3
   },
   "file_extension": ".py",
   "mimetype": "text/x-python",
   "name": "python",
   "nbconvert_exporter": "python",
   "pygments_lexer": "ipython3",
   "version": "3.13.0"
  }
 },
 "nbformat": 4,
 "nbformat_minor": 5
}
